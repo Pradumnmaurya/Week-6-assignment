{
 "cells": [
  {
   "cell_type": "markdown",
   "id": "85f8f77a-437d-49e5-883a-63e094899ac0",
   "metadata": {},
   "source": [
    "# Data Science Tools and Ecosystem"
   ]
  },
  {
   "cell_type": "markdown",
   "id": "42665360-a609-466a-ab3a-89822cee7b2e",
   "metadata": {},
   "source": [
    "In this notebook, Data Science Tools and Ecosystem are summarized."
   ]
  },
  {
   "cell_type": "markdown",
   "id": "6ed2e62e-ded2-4f89-9c9f-fe9812e3ac2b",
   "metadata": {},
   "source": [
    "**Some of the popular languages that Data Scientists use are:**\n",
    "1. Python\n",
    "2. R\n",
    "3. SQL"
   ]
  },
  {
   "cell_type": "markdown",
   "id": "8f3ac562-7f07-4559-bf12-ccd6d052f001",
   "metadata": {},
   "source": [
    "**Some of the commonly used libraries used by Data Scientists include:**\n",
    "1. ggplot\n",
    "2. Numpy\n",
    "3. Pandas\n",
    "4. caret\n",
    "5. dplyr"
   ]
  },
  {
   "cell_type": "markdown",
   "id": "b8f3f533-d4a6-4e01-a13c-34bd2d5c64ce",
   "metadata": {},
   "source": [
    "|Data Science Tools|\n",
    "|------------------|\n",
    "|Jupyter|\n",
    "|R Studio|\n",
    "|Scala|"
   ]
  },
  {
   "cell_type": "markdown",
   "id": "a82c8d44-12fc-4142-b11b-5f2e47343547",
   "metadata": {},
   "source": [
    "### Below are a few examples of evaluating arithmetic expressions in Python ###\n",
    "|Operator| Example | Result|\n",
    "|--------|---------|-------|\n",
    "|*| a*b | Product of a and b |\n",
    "|/| a/b |Below are a few examples of evaluating arithmetic expressions in Python|\n",
    "|%|a%b|Remainder when a is divided by b|"
   ]
  },
  {
   "cell_type": "code",
   "execution_count": 1,
   "id": "fd07a61d-426f-4a3c-b2cb-faf2a5c51e07",
   "metadata": {},
   "outputs": [
    {
     "data": {
      "text/plain": [
       "17"
      ]
     },
     "execution_count": 1,
     "metadata": {},
     "output_type": "execute_result"
    }
   ],
   "source": [
    "#This a simple arithmetic expression to mutiply then add integers\n",
    "(3*4)+5"
   ]
  },
  {
   "cell_type": "code",
   "execution_count": 2,
   "id": "47ddd7f1-e17e-434a-bd7e-46724f46df4a",
   "metadata": {},
   "outputs": [
    {
     "data": {
      "text/plain": [
       "3.3333333333333335"
      ]
     },
     "execution_count": 2,
     "metadata": {},
     "output_type": "execute_result"
    }
   ],
   "source": [
    "#This will convert 200 minutes to hours by diving by 60\n",
    "200/60"
   ]
  },
  {
   "cell_type": "markdown",
   "id": "db6fdba3-3a1c-4769-a5f6-3f40659e4f2a",
   "metadata": {},
   "source": [
    "**Objectives:**\n",
    "+ Python\n",
    "+ R\n",
    "+ Scala\n",
    "+ Julia"
   ]
  },
  {
   "cell_type": "markdown",
   "id": "4a031b4c-c1c7-447b-8906-e5a05d657011",
   "metadata": {},
   "source": [
    "## Author : Pradumn Kumar Maurya"
   ]
  }
 ],
 "metadata": {
  "kernelspec": {
   "display_name": "Python 3 (ipykernel)",
   "language": "python",
   "name": "python3"
  },
  "language_info": {
   "codemirror_mode": {
    "name": "ipython",
    "version": 3
   },
   "file_extension": ".py",
   "mimetype": "text/x-python",
   "name": "python",
   "nbconvert_exporter": "python",
   "pygments_lexer": "ipython3",
   "version": "3.11.4"
  }
 },
 "nbformat": 4,
 "nbformat_minor": 5
}
